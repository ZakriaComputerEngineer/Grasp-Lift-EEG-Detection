{
 "cells": [
  {
   "cell_type": "code",
   "execution_count": 15,
   "metadata": {},
   "outputs": [],
   "source": [
    "import os\n",
    "import pandas as pd\n",
    "import seaborn as sns\n",
    "import matplotlib.pyplot as plt\n",
    "from sklearn.model_selection import train_test_split\n",
    "from sklearn.ensemble import RandomForestClassifier, GradientBoostingClassifier\n",
    "from sklearn.svm import SVC\n",
    "from sklearn.metrics import classification_report, confusion_matrix, accuracy_score\n",
    "from tqdm import tqdm\n",
    "import numpy as np\n",
    "import joblib\n",
    "from tabulate import tabulate\n",
    "import time"
   ]
  },
  {
   "cell_type": "code",
   "execution_count": 16,
   "metadata": {},
   "outputs": [
    {
     "name": "stderr",
     "output_type": "stream",
     "text": [
      "loading all directories: 100%|██████████| 24/24 [00:00<00:00, 23774.99it/s]\n",
      "Reading data files: 100%|██████████| 24/24 [00:19<00:00,  1.26it/s]\n"
     ]
    }
   ],
   "source": [
    "# Directory containing your files\n",
    "data_dir = r'D:\\ZAKRIA\\Client_2\\test\\test'\n",
    "\n",
    "# Initialize empty lists to hold data and label DataFrames\n",
    "data_files = []\n",
    "\n",
    "# Populate the lists with file paths\n",
    "for file_name in tqdm(os.listdir(data_dir),desc=\"loading all directories\"):\n",
    "    if \"data\" in file_name:\n",
    "        data_files.append(os.path.join(data_dir, file_name))\n",
    "        \n",
    "data_frames = [pd.read_csv(file) for file in tqdm(data_files, desc=\"Reading data files\")]\n",
    "data_df = pd.concat(data_frames, ignore_index=True)"
   ]
  },
  {
   "cell_type": "code",
   "execution_count": 17,
   "metadata": {},
   "outputs": [
    {
     "name": "stdout",
     "output_type": "stream",
     "text": [
      "Predicting with RandomForest...\n",
      "\n",
      "Prediction complete\n",
      "Inference Time: 39.522772 seconds\n"
     ]
    }
   ],
   "source": [
    "del data_frames\n",
    "del data_df\n",
    "\n",
    "# SAMPLE DATA\n",
    "data = {\n",
    "    'FC6_ma': [543], \n",
    "    'T8_ma': [860], \n",
    "    'CP6_ma': [325], \n",
    "    'P4_ma': [105], \n",
    "    'O2_ma': [120], \n",
    "    'PO10_ma': [704], \n",
    "    'C4_ma': [573], \n",
    "    'P8_ma': [607]\n",
    "}\n",
    "\n",
    "# Convert the sample data to DataFrame\n",
    "sample_df = pd.DataFrame(data)\n",
    "\n",
    "# Load the trained RandomForest model\n",
    "rf_model = joblib.load('RandomForest_model.pkl')\n",
    "\n",
    "# Measure inference time\n",
    "start_time = time.time()\n",
    "\n",
    "# Make predictions with RandomForest model\n",
    "print(f\"Predicting with RandomForest...\")\n",
    "predictions = rf_model.predict(sample_df)\n",
    "\n",
    "# Calculate inference time\n",
    "inference_time = time.time() - start_time\n",
    "\n",
    "# THRESHOLDING\n",
    "if all(predictions[0] == 0):\n",
    "    predictions[0][1] = 1\n",
    "\n",
    "# Define event names\n",
    "events = ['HandStart', 'FirstDigitTouch', 'BothStartLoadPhase']\n",
    "\n",
    "# Create a DataFrame for predictions\n",
    "pred_df = pd.DataFrame(predictions, columns=events)\n",
    "\n",
    "# Print inference time\n",
    "print(f\"\\nPrediction complete\\nInference Time: {inference_time:.6f} seconds\")\n"
   ]
  },
  {
   "cell_type": "code",
   "execution_count": 18,
   "metadata": {},
   "outputs": [
    {
     "name": "stdout",
     "output_type": "stream",
     "text": [
      "╒════╤═════════════╤═══════════════════╤══════════════════════╕\n",
      "│    │  HandStart  │  FirstDigitTouch  │  BothStartLoadPhase  │\n",
      "╞════╪═════════════╪═══════════════════╪══════════════════════╡\n",
      "│ 0  │    0.00     │       1.00        │         0.00         │\n",
      "╘════╧═════════════╧═══════════════════╧══════════════════════╛\n"
     ]
    }
   ],
   "source": [
    "\n",
    "# Print the results in a table format with fancy grid\n",
    "print(tabulate(\n",
    "    pred_df, \n",
    "    headers='keys', \n",
    "    tablefmt='fancy_grid', \n",
    "    floatfmt='.2f', \n",
    "    numalign='center', \n",
    "    stralign='center', \n",
    "    showindex=True,\n",
    "    colalign=(\"center\", \"center\", \"center\")\n",
    "))\n"
   ]
  }
 ],
 "metadata": {
  "kernelspec": {
   "display_name": "Python 3",
   "language": "python",
   "name": "python3"
  },
  "language_info": {
   "codemirror_mode": {
    "name": "ipython",
    "version": 3
   },
   "file_extension": ".py",
   "mimetype": "text/x-python",
   "name": "python",
   "nbconvert_exporter": "python",
   "pygments_lexer": "ipython3",
   "version": "3.12.1"
  }
 },
 "nbformat": 4,
 "nbformat_minor": 2
}
